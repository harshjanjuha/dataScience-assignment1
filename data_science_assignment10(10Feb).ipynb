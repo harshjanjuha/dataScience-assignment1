{
 "cells": [
  {
   "cell_type": "markdown",
   "id": "12713b0a",
   "metadata": {},
   "source": [
    "# Assignment 10\n"
   ]
  },
  {
   "cell_type": "markdown",
   "id": "dfe59edd",
   "metadata": {},
   "source": [
    "Q1. Which function is used to open a file? What are the different modes of opening a file? Explain each mode\n",
    "of file opening.\n",
    "\n",
    "Ans. open() fucntion is used to open a file . syntax:- open(\"file_name\",\"mode\").\n",
    "     following are the mode of opening a file :->\n",
    "     \n",
    "     1.r -> it is read mode we can only read a file in this.\n",
    "     2.a -> append mode, it will add the new data into file without truncating the previous. \n",
    "     3.w -> write mode, it will add the new data into file and truncate the previous data.\n",
    "     4.b -> binary mode , used to store the data in binary format , can store images , audio , videos etc.\n",
    "     5.x -> it will create a new file and open it for writting \n",
    "     6.U ->  universal newline mode\n",
    "     "
   ]
  },
  {
   "cell_type": "markdown",
   "id": "41b15339",
   "metadata": {},
   "source": [
    "Q2. Why close() function is used? Why is it important to close a file?\n",
    "\n",
    "Ans. close() function is used to close the file and to save the changes made in file after opening the file .\n",
    "     Files are limited resources managed by the operating system, making sure files are closed after use will protect against hard-to-debug issues like running out of file handles or experiencing corrupted data"
   ]
  },
  {
   "cell_type": "markdown",
   "id": "3c45797f",
   "metadata": {},
   "source": [
    "Q3. Write a python program to create a text file. Write ‘I want to become a Data Scientist’ in that file. Then\n",
    "close the file. Open this file and read the content of the file.\n",
    "\n",
    "Ans. the solution is as below :"
   ]
  },
  {
   "cell_type": "code",
   "execution_count": 3,
   "id": "1276268b",
   "metadata": {},
   "outputs": [],
   "source": [
    "#opening the file \n",
    "with open(\"sample.txt\",\"w\") as f:\n",
    "#writing in file \n",
    "    f.write(\"I want to become a Data Scientist\")\n",
    "#closing the file\n",
    "f.close()"
   ]
  },
  {
   "cell_type": "code",
   "execution_count": 7,
   "id": "1e82948c",
   "metadata": {},
   "outputs": [
    {
     "name": "stdout",
     "output_type": "stream",
     "text": [
      "I want to become a Data Scientist\n"
     ]
    }
   ],
   "source": [
    "#opening the file \n",
    "with open(\"sample.txt\",\"r\") as f:\n",
    "#reading data from the file\n",
    "    data= f.read()\n",
    "print(data)\n",
    "#closing the file\n",
    "f.close()"
   ]
  },
  {
   "cell_type": "markdown",
   "id": "9126c900",
   "metadata": {},
   "source": [
    "Q4. Explain the following with python code: read(), readline() and readlines().\n",
    "\n",
    "Ans. solution is as follows:\n"
   ]
  },
  {
   "cell_type": "code",
   "execution_count": 13,
   "id": "2c9e5069",
   "metadata": {},
   "outputs": [],
   "source": [
    "#opening the file \n",
    "with open(\"sample.txt\",\"w\") as f:\n",
    "#writing in file \n",
    "    f.write(\"I want to become a Data Scientist \\nI'm  harsh \\ndata science student  and a web developer\")\n",
    "#closing the file\n",
    "f.close()"
   ]
  },
  {
   "cell_type": "code",
   "execution_count": 14,
   "id": "6d2ff19b",
   "metadata": {},
   "outputs": [
    {
     "name": "stdout",
     "output_type": "stream",
     "text": [
      "I want to become a Data Scientist \n",
      "I'm  harsh \n",
      "data science student  and a web developer\n"
     ]
    }
   ],
   "source": [
    "#############################\n",
    "########using read()#########\n",
    "#############################\n",
    "with open(\"sample.txt\",\"r\") as f:\n",
    "#reading data from the file\n",
    "\n",
    "    data= f.read()\n",
    "print(data)\n",
    "#closing the file\n",
    "f.close()"
   ]
  },
  {
   "cell_type": "code",
   "execution_count": 33,
   "id": "f8dad8d9",
   "metadata": {},
   "outputs": [
    {
     "name": "stdout",
     "output_type": "stream",
     "text": [
      "I want to become a Data Scientist \n",
      "\n"
     ]
    }
   ],
   "source": [
    "#############################\n",
    "########using readline()#########\n",
    "#############################\n",
    "with open(\"sample.txt\",\"r\") as f:\n",
    "#reading data from the file\n",
    "    data= f.readline()\n",
    "print(data)\n",
    "#closing the file\n",
    "f.close()"
   ]
  },
  {
   "cell_type": "code",
   "execution_count": 32,
   "id": "2c6c84a9",
   "metadata": {},
   "outputs": [
    {
     "name": "stdout",
     "output_type": "stream",
     "text": [
      "['I want to become a Data Scientist \\n', \"I'm  harsh \\n\"]\n"
     ]
    }
   ],
   "source": [
    "#############################\n",
    "########using readlines()#########\n",
    "#############################\n",
    "with open(\"sample.txt\",\"r\") as f:\n",
    "#reading data from the file\n",
    "    data= f.readlines()\n",
    "print(data)\n",
    "#closing the file\n",
    "f.close()"
   ]
  },
  {
   "cell_type": "markdown",
   "id": "43343d22",
   "metadata": {},
   "source": [
    "Q5. Explain why with statement is used with open(). What is the advantage of using with statement and\n",
    "open() together?\n",
    "\n",
    "Ans. The \"with\" statement in Python is used to create a context in which resources like files, sockets, or database connections are managed efficiently. The \"with\" statement provides a convenient way to automatically clean up resources after they are used, whether or not an exception is thrown.\n",
    "\n",
    "When the \"with\" statement is used with the \"open()\" function, it ensures that the file being opened is properly closed after the block of code within the with statement is executed. This is important because if a file is not properly closed, it may result in data loss or corruption, and it may also prevent other programs from accessing the file."
   ]
  },
  {
   "cell_type": "markdown",
   "id": "8fa48166",
   "metadata": {},
   "source": [
    "Q6. Explain the write() and writelines() functions. Give a suitable example.\n",
    "\n",
    "Ans: solution is as follows:\n"
   ]
  },
  {
   "cell_type": "code",
   "execution_count": 36,
   "id": "6d837713",
   "metadata": {},
   "outputs": [],
   "source": [
    "\"\"\"The write() function is used to write a string to a file. It takes a string as an argument and writes \n",
    "it to the file, starting at the current position of the file pointer. If the file does not exist, it will be created. \n",
    "If it does exist, the contents of the file will be overwritten. Here's an example:\"\"\"\n",
    "# Open a file for writing\n",
    "with open('file1.txt', 'w') as f:\n",
    "    # Write a string to the file\n",
    "    f.write('Hello, world!')"
   ]
  },
  {
   "cell_type": "code",
   "execution_count": 37,
   "id": "43fcdb82",
   "metadata": {},
   "outputs": [],
   "source": [
    "\"\"\"The writelines() function is used to write a list of strings to a file. \n",
    "It takes a list of strings as an argument and writes each string to the file, starting at the current position of \n",
    "the file pointer. Here's an example:\"\"\"\n",
    "# Open a file for writing\n",
    "with open('file.txt', 'w') as f:\n",
    "    # Write a list of strings to the file\n",
    "    lines = ['line 1\\n', 'line 2\\n', 'line 3\\n']\n",
    "    f.writelines(lines)"
   ]
  },
  {
   "cell_type": "code",
   "execution_count": null,
   "id": "2951695e",
   "metadata": {},
   "outputs": [],
   "source": []
  },
  {
   "cell_type": "code",
   "execution_count": null,
   "id": "544eb4ea",
   "metadata": {},
   "outputs": [],
   "source": []
  }
 ],
 "metadata": {
  "kernelspec": {
   "display_name": "Python 3 (ipykernel)",
   "language": "python",
   "name": "python3"
  },
  "language_info": {
   "codemirror_mode": {
    "name": "ipython",
    "version": 3
   },
   "file_extension": ".py",
   "mimetype": "text/x-python",
   "name": "python",
   "nbconvert_exporter": "python",
   "pygments_lexer": "ipython3",
   "version": "3.9.12"
  }
 },
 "nbformat": 4,
 "nbformat_minor": 5
}
