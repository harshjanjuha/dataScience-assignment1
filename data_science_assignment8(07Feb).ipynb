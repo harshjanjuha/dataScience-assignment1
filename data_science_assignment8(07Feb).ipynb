{
 "cells": [
  {
   "cell_type": "markdown",
   "id": "e82da9f0",
   "metadata": {},
   "source": [
    "# Assignment 8"
   ]
  },
  {
   "cell_type": "markdown",
   "id": "7de0ff10",
   "metadata": {},
   "source": [
    "Q1. You are writing code for a company. The requirement of the company is that you create a python function that will check whether the password entered by the user is correct or not. The function should take the password as input and return the string “Valid Password” if the entered password follows the below-given password guidelines else it should return “Invalid Password”.\n",
    "\n",
    "Note: \n",
    "1.The Password should contain at least two uppercase letters and at least two lowercase letters.\n",
    "\n",
    "2. The Password should contain at least a number and three special characters.\n",
    "\n",
    "3. The length of the password should be 10 characters long."
   ]
  },
  {
   "cell_type": "code",
   "execution_count": 1,
   "id": "86fbb37c",
   "metadata": {},
   "outputs": [
    {
     "data": {
      "text/plain": [
       "'Valid Password'"
      ]
     },
     "execution_count": 1,
     "metadata": {},
     "output_type": "execute_result"
    }
   ],
   "source": [
    "from string import punctuation\n",
    "def checkPass(password):\n",
    "    uppercase = 0\n",
    "    lowercase = 0\n",
    "    special_char = 0\n",
    "    number = 0\n",
    "    valid = False\n",
    "    if len(password)>=10:\n",
    "        for i in password:\n",
    "            if i.isupper():\n",
    "                uppercase+=1\n",
    "            if i.islower():\n",
    "                lowercase+=1\n",
    "            if i in punctuation:\n",
    "                special_char+=1\n",
    "            if i.isnumeric():\n",
    "                number+=1\n",
    "        if uppercase>=2 and lowercase>=2 and special_char>=3 and number>=1:\n",
    "            valid=True\n",
    "    else:\n",
    "        valid= False\n",
    "    if valid:\n",
    "        return \"Valid Password\"\n",
    "    else:\n",
    "        return \"Invalid Password\"\n",
    "checkPass(\"$ThisIsSecret$895-@\")"
   ]
  },
  {
   "cell_type": "markdown",
   "id": "4e3251ff",
   "metadata": {},
   "source": [
    "Q2. Solve the below-given questions using at least one of the following:\n",
    "\n",
    "1. Lambda function\n",
    "2. Filter function\n",
    "3. Map function\n",
    "4. List Comprehension\n",
    "\n",
    "Check if the string starts with a particular letter.\n",
    "\n",
    "Check if the string is numeric.\n",
    "\n",
    "Sort a list of tuples having fruit names and their quantity. [(\"mango\",99),(\"orange\",80), (\"grapes\", 1000)]\n",
    "\n",
    "Find the squares of numbers from 1 to 10\n",
    "\n",
    "Find the cube root of numbers from 1 to 10\n",
    "\n",
    "Check if a given number is even\n",
    "\n",
    "Filter odd numbers from the given list.\n",
    "[1,2,3,4,5,6,7,8,9,10]\n",
    "\n",
    "Sort a list of integers into positive and negative integers lists.\n",
    "[1,2,3,4,5,6,-1,-2,-3,-4,-5,0]"
   ]
  },
  {
   "cell_type": "code",
   "execution_count": 3,
   "id": "a5685f17",
   "metadata": {},
   "outputs": [
    {
     "data": {
      "text/plain": [
       "True"
      ]
     },
     "execution_count": 3,
     "metadata": {},
     "output_type": "execute_result"
    }
   ],
   "source": [
    "#Check if the string starts with a particular letter.\n",
    "func= lambda x,y: True if x[0] else False\n",
    "func(\"harsh\",'h')"
   ]
  },
  {
   "cell_type": "code",
   "execution_count": 4,
   "id": "32efee73",
   "metadata": {},
   "outputs": [
    {
     "data": {
      "text/plain": [
       "True"
      ]
     },
     "execution_count": 4,
     "metadata": {},
     "output_type": "execute_result"
    }
   ],
   "source": [
    "#Check if the string is numeric\n",
    "check_num= lambda string: True if string.isdigit() else False\n",
    "check_num(\"786483\")"
   ]
  },
  {
   "cell_type": "code",
   "execution_count": 9,
   "id": "37637945",
   "metadata": {},
   "outputs": [
    {
     "name": "stdout",
     "output_type": "stream",
     "text": [
      "[('orange', 80), ('mango', 99), ('grapes', 1000)]\n",
      "[('orange', 80), ('mango', 99), ('grapes', 1000)]\n"
     ]
    }
   ],
   "source": [
    "#Sort a list of tuples having fruit names and their quantity. [(\"mango\",99),(\"orange\",80), (\"grapes\", 1000)]\n",
    "\n",
    "#using lambda\n",
    "lst1=[(\"mango\",99),(\"orange\",80), (\"grapes\", 1000)]\n",
    "sort=sorted(lst1, key= lambda x : x[1])\n",
    "print(sort)\n",
    "\n",
    "#using list comprehension \n",
    "lst2=[(\"mango\",99),(\"orange\",80), (\"grapes\", 1000)]\n",
    "lsort=[x for x in sorted(lst1, key= lambda x : x[1]) ]\n",
    "print(lsort)"
   ]
  },
  {
   "cell_type": "code",
   "execution_count": 16,
   "id": "276b2560",
   "metadata": {},
   "outputs": [
    {
     "name": "stdout",
     "output_type": "stream",
     "text": [
      "[1, 4, 9, 16, 25, 36, 49, 64, 81, 100]\n",
      "[1, 4, 9, 16, 25, 36, 49, 64, 81, 100]\n"
     ]
    }
   ],
   "source": [
    "#Find the squares of numbers from 1 to 10\n",
    "\n",
    "#using map function \n",
    "sqr_lst=list(map(lambda x:x**2,range(1,11)))\n",
    "print(sqr_lst)\n",
    "#list comprehension \n",
    "sqr_lst1=[x**2 for x in range(1,11)]\n",
    "print(sqr_lst1)"
   ]
  },
  {
   "cell_type": "code",
   "execution_count": 17,
   "id": "dc12689a",
   "metadata": {},
   "outputs": [
    {
     "name": "stdout",
     "output_type": "stream",
     "text": [
      "[1.0, 1.2599210498948732, 1.4422495703074083, 1.5874010519681994, 1.7099759466766968, 1.8171205928321397, 1.912931182772389, 2.0, 2.080083823051904, 2.154434690031884]\n",
      "[1.0, 1.2599210498948732, 1.4422495703074083, 1.5874010519681994, 1.7099759466766968, 1.8171205928321397, 1.912931182772389, 2.0, 2.080083823051904, 2.154434690031884]\n"
     ]
    }
   ],
   "source": [
    "#Find the cube root of numbers from 1 to 10\n",
    "#using map function \n",
    "sqr_lst=list(map(lambda x:x**(1/3),range(1,11)))\n",
    "print(sqr_lst)\n",
    "#list comprehension \n",
    "sqr_lst1=[x**(1/3) for x in range(1,11)]\n",
    "print(sqr_lst1)"
   ]
  },
  {
   "cell_type": "code",
   "execution_count": 19,
   "id": "03a65ca3",
   "metadata": {},
   "outputs": [
    {
     "data": {
      "text/plain": [
       "True"
      ]
     },
     "execution_count": 19,
     "metadata": {},
     "output_type": "execute_result"
    }
   ],
   "source": [
    "#Check if a given number is even\n",
    "check_even= lambda x : True if x%2==0 else False\n",
    "check_even(10)"
   ]
  },
  {
   "cell_type": "code",
   "execution_count": 25,
   "id": "696f8e42",
   "metadata": {},
   "outputs": [
    {
     "name": "stdout",
     "output_type": "stream",
     "text": [
      "[1, 3, 5, 7, 9]\n",
      "[1, 3, 5, 7, 9]\n"
     ]
    }
   ],
   "source": [
    "#Filter odd numbers from the given list. [1,2,3,4,5,6,7,8,9,10]\n",
    "lst4=[1,2,3,4,5,6,7,8,9,10]\n",
    "#using filter\n",
    "odd_lst=list(filter(lambda x: x % 2 != 0,lst4))\n",
    "print(odd_lst)\n",
    "#using list comprehension\n",
    "odd_lst1=[x for x in lst4 if x%2!=0 ]\n",
    "print(odd_lst1)"
   ]
  },
  {
   "cell_type": "code",
   "execution_count": 36,
   "id": "e2824e74",
   "metadata": {},
   "outputs": [
    {
     "name": "stdout",
     "output_type": "stream",
     "text": [
      "[-1, -2, -3, -4, -5]\n",
      "[1, 2, 3, 4, 5, 6]\n",
      "[-1, -2, -3, -4, -5]\n",
      "[1, 2, 3, 4, 5, 6]\n",
      "[None, None, None, None, None, None, -1, -2, -3, -4, -5, None]\n",
      "[1, 2, 3, 4, 5, 6, None, None, None, None, None, None]\n"
     ]
    }
   ],
   "source": [
    "#Sort a list of integers into positive and negative integers lists. [1,2,3,4,5,6,-1,-2,-3,-4,-5,0]\n",
    "lst5=[1,2,3,4,5,6,-1,-2,-3,-4,-5,0]\n",
    "#using list comprehension\n",
    "neg_lst=[x for x in lst5 if x<0]\n",
    "pos_lst=[x for x in lst5 if x>0]\n",
    "print(neg_lst)\n",
    "print(pos_lst)\n",
    "\n",
    "#using filter\n",
    "neg_lst1=list(filter(lambda x : x<0,lst5))\n",
    "pos_lst1=list(filter(lambda x : x>0,lst5))\n",
    "print(neg_lst1)\n",
    "print(pos_lst1)\n",
    "\n",
    "#using map function\n",
    "neg_lst2=list(map(lambda x : x if x<0 else  None,lst5))\n",
    "pos_lst2=list(map(lambda x : x if x>0 else None,lst5))\n",
    "print(neg_lst2)\n",
    "print(pos_lst2)"
   ]
  },
  {
   "cell_type": "code",
   "execution_count": null,
   "id": "540ecc36",
   "metadata": {},
   "outputs": [],
   "source": []
  }
 ],
 "metadata": {
  "kernelspec": {
   "display_name": "Python 3 (ipykernel)",
   "language": "python",
   "name": "python3"
  },
  "language_info": {
   "codemirror_mode": {
    "name": "ipython",
    "version": 3
   },
   "file_extension": ".py",
   "mimetype": "text/x-python",
   "name": "python",
   "nbconvert_exporter": "python",
   "pygments_lexer": "ipython3",
   "version": "3.9.12"
  }
 },
 "nbformat": 4,
 "nbformat_minor": 5
}
