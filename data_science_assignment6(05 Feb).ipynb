{
 "cells": [
  {
   "cell_type": "markdown",
   "id": "21783170",
   "metadata": {},
   "source": [
    "# Assignment 6 ( 05 Feb)"
   ]
  },
  {
   "cell_type": "markdown",
   "id": "2c917ecc",
   "metadata": {},
   "source": [
    "Q1. Explain Class and Object with respect to Object-Oriented Programming. Give a suitable example.\n",
    "\n",
    "Ans: Class: In object-oriented programming, a class is a blueprint or a template for creating objects (an instance of the class). It defines a set of attributes and behaviors that an object of that class will have. A class can be considered as a blueprint for the object or objects that can be created using it.\n",
    "\n",
    "Object: An object is an instance of a class. It is a real-world entity with attributes and behaviors that are defined by the class. An object has a state and a behavior, and it is created from a class. An object is also known as an instance of a class.\n",
    "\n",
    "Example: Let's consider a class called \"Car\". A Car class might have attributes such as color, make, model, and year, and behaviors such as start, stop, and drive. An object of the Car class would be a specific car, such as a red 2022 Toyota Corolla. The red 2022 Toyota Corolla would have the attributes of color (red), make (Toyota), model (Corolla), and year (2022), and it would be able to perform the behaviors start, stop, and drive."
   ]
  },
  {
   "cell_type": "markdown",
   "id": "3d781cca",
   "metadata": {},
   "source": [
    "Q2. Name the four pillars of OOPs.\n",
    "\n",
    "Ans: The four pillars of object-oriented programming (OOP) are:\n",
    "\n",
    "Abstraction: Abstraction refers to the practice of exposing only the relevant information and hiding the complexity of the implementation. It allows the user to focus on what the object does rather than how it does it.\n",
    "\n",
    "Encapsulation: Encapsulation is the mechanism of wrapping the data (variables) and functions that operate on that data within a single unit or object. This protects the data from accidental corruption and provides a secure way to access the data.\n",
    "\n",
    "Inheritance: Inheritance is a mechanism where a new class can be derived from an existing class. The derived class inherits all the attributes and behaviors of the parent class and can also have its own attributes and behaviors.\n",
    "\n",
    "Polymorphism: Polymorphism is the ability of an object to take on multiple forms. This is achieved in OOP by defining methods with the same name in different classes that are related by inheritance. When a method is called on an object, the correct implementation of that method is executed based on the object's actual class."
   ]
  },
  {
   "cell_type": "markdown",
   "id": "623f7924",
   "metadata": {},
   "source": [
    "Q3. Explain why the init() function is used. Give a suitable example.\n",
    "\n",
    "Ans: The init() function is used in object-oriented programming to initialize the attributes of an object at the time of its creation. It is a special method that is automatically called when an object is created from a class. The init() method is also known as a constructor.\n",
    "\n",
    "The init() function allows you to set the default values for the object's attributes, perform any initializations, and allocate any required memory when the object is created. The method takes the newly created object as its first argument (usually referred to as self), and additional arguments can be passed to initialize the object's attributes.\n",
    "\n",
    "Example: Consider a class Person that represents a person's name and age. The init() function can be used to initialize these attributes when a new object of the Person class is created"
   ]
  },
  {
   "cell_type": "code",
   "execution_count": 2,
   "id": "a822ebc0",
   "metadata": {},
   "outputs": [
    {
     "name": "stdout",
     "output_type": "stream",
     "text": [
      "harsh\n",
      "19\n"
     ]
    }
   ],
   "source": [
    "class Person:\n",
    "    def __init__(self, name, age):\n",
    "        self.name = name\n",
    "        self.age = age\n",
    "\n",
    "person = Person(\"harsh\", 19)\n",
    "print(person.name) \n",
    "print(person.age) "
   ]
  },
  {
   "cell_type": "markdown",
   "id": "c0402f69",
   "metadata": {},
   "source": [
    "Q4. Why self is used in OOPs?\n",
    "\n",
    "Ans: In object-oriented programming (OOP), self is used to refer to the instance of the object being manipulated within a method. It is a convention in Python (and some other programming languages) to use self as the first argument in an instance method to refer to the instance of the object.\n",
    "\n",
    "When a method is called on an object, the object is passed as the first argument to the method, and it can be accessed using the self reference. This allows the method to access and modify the object's attributes and perform other operations on the object.\n",
    "\n",
    "For example:"
   ]
  },
  {
   "cell_type": "code",
   "execution_count": 3,
   "id": "025ae244",
   "metadata": {},
   "outputs": [
    {
     "name": "stdout",
     "output_type": "stream",
     "text": [
      "harsh\n",
      "rahul\n"
     ]
    }
   ],
   "source": [
    "\n",
    "class Person:\n",
    "    def __init__(self, name, age):\n",
    "        self.name = name\n",
    "        self.age = age\n",
    "        \n",
    "    def set_name(self, name):\n",
    "        self.name = name\n",
    "        \n",
    "    def set_age(self, age):\n",
    "        self.age = age\n",
    "\n",
    "person = Person(\"harsh\", 19)\n",
    "print(person.name) # outputs: \"harsh\"\n",
    "person.set_name(\"rahul\")\n",
    "print(person.name) # outputs: \"rahul\""
   ]
  },
  {
   "cell_type": "markdown",
   "id": "38f37eca",
   "metadata": {},
   "source": [
    "Q5. What is inheritance? Give an example for each type of inheritance.\n",
    "\n",
    "Ans: Inheritance is a mechanism in object-oriented programming (OOP) that allows a new class to be derived from an existing class. The derived class inherits all the attributes and behaviors of the parent class and can also have its own attributes and behaviors. Inheritance enables code reuse and makes it easier to create and maintain large, complex systems.\n",
    "\n",
    "There are several types of inheritance, including:"
   ]
  },
  {
   "cell_type": "code",
   "execution_count": 10,
   "id": "e5e5404e",
   "metadata": {},
   "outputs": [
    {
     "name": "stdout",
     "output_type": "stream",
     "text": [
      "This is class 2\n",
      "This is class 1\n"
     ]
    }
   ],
   "source": [
    "#single inheritance\n",
    "class class1:\n",
    "    def prntclass1(self):\n",
    "        print(\"This is class 1\")\n",
    "class class2(class1):\n",
    "    def prntclass2(self):\n",
    "        print(\"This is class 2\")\n",
    "obj=class2()\n",
    "obj.prntclass2()\n",
    "obj.prntclass1()\n"
   ]
  },
  {
   "cell_type": "code",
   "execution_count": 11,
   "id": "b98bd81c",
   "metadata": {},
   "outputs": [
    {
     "name": "stdout",
     "output_type": "stream",
     "text": [
      "This is class 3\n",
      "This is class 2\n",
      "This is class 1\n"
     ]
    }
   ],
   "source": [
    "#Multi level Inheritance\n",
    "class class1:\n",
    "    def prntclass1(self):\n",
    "        print(\"This is class 1\")\n",
    "class class2(class1):\n",
    "    def prntclass2(self):\n",
    "        print(\"This is class 2\")\n",
    "class class3(class2):\n",
    "    def prntclass3(self):\n",
    "        print(\"This is class 3\")\n",
    "obj=class3()\n",
    "obj.prntclass3()\n",
    "obj.prntclass2()\n",
    "obj.prntclass1()"
   ]
  },
  {
   "cell_type": "code",
   "execution_count": null,
   "id": "d9871627",
   "metadata": {},
   "outputs": [],
   "source": []
  }
 ],
 "metadata": {
  "kernelspec": {
   "display_name": "Python 3 (ipykernel)",
   "language": "python",
   "name": "python3"
  },
  "language_info": {
   "codemirror_mode": {
    "name": "ipython",
    "version": 3
   },
   "file_extension": ".py",
   "mimetype": "text/x-python",
   "name": "python",
   "nbconvert_exporter": "python",
   "pygments_lexer": "ipython3",
   "version": "3.9.12"
  }
 },
 "nbformat": 4,
 "nbformat_minor": 5
}
