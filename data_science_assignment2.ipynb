{
 "cells": [
  {
   "cell_type": "markdown",
   "id": "d89bf410",
   "metadata": {},
   "source": [
    "# Assignment 2"
   ]
  },
  {
   "cell_type": "markdown",
   "id": "c35f99a3",
   "metadata": {},
   "source": [
    "## Answer1"
   ]
  },
  {
   "cell_type": "code",
   "execution_count": 17,
   "id": "4e10a26e",
   "metadata": {},
   "outputs": [
    {
     "name": "stdout",
     "output_type": "stream",
     "text": [
      "Enter your marks percentage60\n",
      "C\n"
     ]
    }
   ],
   "source": [
    "#Write a program to accept percentage from the user and display the grade according to the following criteria:\n",
    "#Enter your marks percentage\n",
    "marks=int(input(\"Enter your marks percentage\"))\n",
    "#Logic to print grades\n",
    "if marks>90:\n",
    "    print(\"A\")\n",
    "elif  80<marks<=90:\n",
    "    print(\"B\")\n",
    "elif 60<=marks<=80:\n",
    "    print(\"C\")\n",
    "else :\n",
    "    print('D')"
   ]
  },
  {
   "cell_type": "markdown",
   "id": "3ecf1167",
   "metadata": {},
   "source": [
    "## Answer2|"
   ]
  },
  {
   "cell_type": "code",
   "execution_count": 3,
   "id": "8556bdc2",
   "metadata": {},
   "outputs": [
    {
     "name": "stdout",
     "output_type": "stream",
     "text": [
      "Enter the cost price of Bike115000\n",
      "15% tax to be paid\n"
     ]
    }
   ],
   "source": [
    "#Write a program to accept the cost price of a bike and display\n",
    "#the road tax to be paid according to the following criteria\n",
    "#user input\n",
    "cp=int(input(\"Enter the cost price of Bike\"))\n",
    "#logic to display tax\n",
    "if cp>100000:\n",
    "    print(\"15% tax to be paid\")\n",
    "elif 50000<cp<=100000:\n",
    "    print(\"10% tax to be paid\")\n",
    "else:\n",
    "    print(\"5% tax to be paid\")\n",
    "    \n",
    "    "
   ]
  },
  {
   "cell_type": "markdown",
   "id": "47e78c89",
   "metadata": {},
   "source": [
    "## Answer3"
   ]
  },
  {
   "cell_type": "code",
   "execution_count": 4,
   "id": "15f72dbe",
   "metadata": {},
   "outputs": [
    {
     "name": "stdout",
     "output_type": "stream",
     "text": [
      "Enter city name: Delhi\n",
      "Red Fort\n"
     ]
    }
   ],
   "source": [
    "#accept any city from the user and display monuments of that city\n",
    "\n",
    "#user input\n",
    "city = input(\"Enter city name: \")\n",
    "#display monuments of that city\n",
    "if city == \"Delhi\":\n",
    "    print(\"Red Fort\")\n",
    "elif city == \"Agra\":\n",
    "    print(\"Taj Mahal\")\n",
    "elif city == \"Jaipur\":\n",
    "    print(\"Jal Mahal\")"
   ]
  },
  {
   "cell_type": "markdown",
   "id": "41b70a49",
   "metadata": {},
   "source": [
    "## Answer4"
   ]
  },
  {
   "cell_type": "code",
   "execution_count": 18,
   "id": "37a85b8d",
   "metadata": {},
   "outputs": [
    {
     "name": "stdout",
     "output_type": "stream",
     "text": [
      "Enter the number20\n",
      "20  can be devided by 3 for  1  times. Before it's less than or equal to 10\n"
     ]
    }
   ],
   "source": [
    "#check how many times a given number can be divided by 3\n",
    "#before it is less than or equal to 10\n",
    "#taking input \n",
    "num=int(input(\"Enter the number\"))\n",
    "temp=num\n",
    "#logic to check the condition and gvive output\n",
    "#counter\n",
    "count=0\n",
    "#writing condition\n",
    "while num>10:\n",
    "    num=num/3\n",
    "    count=count+1\n",
    "#output message\n",
    "print(temp, \" can be devided by 3 for \",count ,\" times. Before it's less than or equal to 10\")\n"
   ]
  },
  {
   "cell_type": "markdown",
   "id": "597718ba",
   "metadata": {},
   "source": [
    "## Answer5"
   ]
  },
  {
   "cell_type": "code",
   "execution_count": 13,
   "id": "4e9e6b16",
   "metadata": {},
   "outputs": [
    {
     "name": "stdout",
     "output_type": "stream",
     "text": [
      "1\n",
      "2\n",
      "3\n",
      "4\n",
      "5\n",
      "6\n",
      "7\n",
      "8\n",
      "9\n",
      "10\n"
     ]
    }
   ],
   "source": [
    "#Why and when to use while loop in python\n",
    "#give a detailed description with example\n",
    "\n",
    "# A while loop in Python is used to repeatedly execute a block of code\n",
    "# as long as a certain condition is met.\n",
    "# The loop will keep running as long as the condition is True,\n",
    "# and will exit when the condition becomes False.\n",
    "\n",
    "# Here's the general syntax for a while loop in Python:\n",
    "# while condition:\n",
    "#     # Code to be executed\n",
    "\n",
    "# Here's an example that demonstrates the use of a while loop:\n",
    "# Print the numbers from 1 to 10\n",
    "counter = 1\n",
    "\n",
    "while counter <= 10:\n",
    "    print(counter)\n",
    "    counter += 1\n",
    "\n",
    "# In this example, the while loop will run as long as\n",
    "# the value of counter is less than or equal to 10.\n",
    "# On each iteration of the loop, the value of counter is printed,\n",
    "# and then incremented by 1.\n",
    "# The loop will exit when the value of counter becomes greater than 10.\n",
    "\n",
    "# The while loop is useful when you don't know in advance how many times\n",
    "# you need to loop, and you want to keep looping until a certain condition is met.\n",
    "# For example, you can use a while loop to read data from a file until the end of the file is reached,\n",
    "# or to keep asking the user for input until a valid response is given."
   ]
  },
  {
   "cell_type": "markdown",
   "id": "b24a2f66",
   "metadata": {},
   "source": [
    "## Answer7"
   ]
  },
  {
   "cell_type": "code",
   "execution_count": 14,
   "id": "32ae477c",
   "metadata": {},
   "outputs": [
    {
     "name": "stdout",
     "output_type": "stream",
     "text": [
      "Pattern 1\n",
      "1\n",
      "12\n",
      "123\n",
      "1234\n",
      "----------------------------------------------------------------\n",
      "Pattern 2\n",
      "*\n",
      "**\n",
      "***\n",
      "****\n",
      "----------------------------------------------------------------\n",
      "Pattern 3\n",
      "😀😀😆😀😀😆😀😀😆😀😀😆😀😀😆😀😀😆😀😀😆😀😀😆😀😀😆\n",
      "😀😀😆😀😀😆😀😀😆😀😀😆😀😀😆😀😀😆😀😀😆😀😀😆😀😀😆\n",
      "😀😀😆😀😀😆😀😀😆😀😀😆😀😀😆😀😀😆😀😀😆😀😀😆😀😀😆\n",
      "😀😀😆😀😀😆😀😀😆😀😀😆😀😀😆😀😀😆😀😀😆😀😀😆😀😀😆\n",
      "😀😀😆😀😀😆😀😀😆😀😀😆😀😀😆😀😀😆😀😀😆😀😀😆😀😀😆\n",
      "😀😀😆😀😀😆😀😀😆😀😀😆😀😀😆😀😀😆😀😀😆😀😀😆😀😀😆\n",
      "😀😀😆😀😀😆😀😀😆😀😀😆😀😀😆😀😀😆😀😀😆😀😀😆😀😀😆\n",
      "😀😀😆😀😀😆😀😀😆😀😀😆😀😀😆😀😀😆😀😀😆😀😀😆😀😀😆\n",
      "😀😀😆😀😀😆😀😀😆😀😀😆😀😀😆😀😀😆😀😀😆😀😀😆😀😀😆\n"
     ]
    }
   ],
   "source": [
    "#Use nested while loop to print 3 different pattern\n",
    "\n",
    "#pattern 1 \n",
    "print(\"Pattern 1\")\n",
    "#initialize variables \n",
    "i=1\n",
    "j=1\n",
    "#while loop\n",
    "while i<5:\n",
    "    #nested while\n",
    "    while j<=i:\n",
    "        #printed j without space\n",
    "        print(j, end=\"\")\n",
    "        #increment j by 1\n",
    "        j+=1\n",
    "    #print new line\n",
    "    print()\n",
    "    #reset value of j\n",
    "    j=1\n",
    "    #increment value of i by 1\n",
    "    i+=1\n",
    "\n",
    "print(\"----------------------------------------------------------------\")\n",
    "print(\"Pattern 2\")\n",
    "#initialize variables \n",
    "i=1\n",
    "j=1\n",
    "#while loop\n",
    "while i<5:\n",
    "    #nested while\n",
    "    while j<=i:\n",
    "        #printed * without space\n",
    "        print(\"*\", end=\"\")\n",
    "        #increment j by 1\n",
    "        j+=1\n",
    "    #print new line\n",
    "    print()\n",
    "    #reset value of j\n",
    "    j=1\n",
    "    #increment value of i by 1\n",
    "    i+=1\n",
    "\n",
    "print(\"----------------------------------------------------------------\")\n",
    "print(\"Pattern 3\")\n",
    "#initialize variables \n",
    "i=1\n",
    "j=1\n",
    "#while loop\n",
    "while i<10:\n",
    "    #nested while\n",
    "    while j<10:\n",
    "        #printed smile with smile using Unicode associated with it\n",
    "        print(\"\\U0001f600\\U0001f600\", end=\"\\U0001F606\")\n",
    "        #increment j by 1\n",
    "        j+=1\n",
    "    #print new line\n",
    "    print()\n",
    "    #reset value of j\n",
    "    j=1\n",
    "    #increment value of i by 1\n",
    "    i+=1"
   ]
  },
  {
   "cell_type": "markdown",
   "id": "dc9d8fcc",
   "metadata": {},
   "source": [
    "## Answer6"
   ]
  },
  {
   "cell_type": "code",
   "execution_count": 15,
   "id": "f2a2d10f",
   "metadata": {},
   "outputs": [
    {
     "name": "stdout",
     "output_type": "stream",
     "text": [
      "10\n",
      "9\n",
      "8\n",
      "7\n",
      "6\n",
      "5\n",
      "4\n",
      "3\n",
      "2\n",
      "1\n"
     ]
    }
   ],
   "source": [
    "#reverse a while loop to display the numbers from 10 to 1\n",
    "\n",
    "#variable declaration\n",
    "upperBound=10\n",
    "lowerBound=1\n",
    "#while loop\n",
    "while upperBound>=lowerBound:\n",
    "    #print upperBound\n",
    "    print(upperBound)\n",
    "    #decrement upperBound by 1\n",
    "    upperBound-=1"
   ]
  },
  {
   "cell_type": "markdown",
   "id": "caa63423",
   "metadata": {},
   "source": [
    "## Answer8"
   ]
  },
  {
   "cell_type": "code",
   "execution_count": 19,
   "id": "2d81cc70",
   "metadata": {},
   "outputs": [
    {
     "name": "stdout",
     "output_type": "stream",
     "text": [
      "10\n",
      "9\n",
      "8\n",
      "7\n",
      "6\n",
      "5\n",
      "4\n",
      "3\n",
      "2\n",
      "1\n"
     ]
    }
   ],
   "source": [
    "#reverse a while loop to display the numbers from 10 to 1\n",
    "\n",
    "#variable declaration\n",
    "upperBound=10\n",
    "lowerBound=1\n",
    "#while loop\n",
    "while upperBound>=lowerBound:\n",
    "    #print upperBound\n",
    "    print(upperBound)\n",
    "    #decrement upperBound by 1\n",
    "    upperBound-=1"
   ]
  },
  {
   "cell_type": "code",
   "execution_count": null,
   "id": "39289d42",
   "metadata": {},
   "outputs": [],
   "source": []
  }
 ],
 "metadata": {
  "kernelspec": {
   "display_name": "Python 3 (ipykernel)",
   "language": "python",
   "name": "python3"
  },
  "language_info": {
   "codemirror_mode": {
    "name": "ipython",
    "version": 3
   },
   "file_extension": ".py",
   "mimetype": "text/x-python",
   "name": "python",
   "nbconvert_exporter": "python",
   "pygments_lexer": "ipython3",
   "version": "3.9.12"
  }
 },
 "nbformat": 4,
 "nbformat_minor": 5
}
