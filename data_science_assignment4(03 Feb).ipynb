{
 "cells": [
  {
   "cell_type": "markdown",
   "id": "af195b08",
   "metadata": {},
   "source": [
    "# Assignment4(03 Feb)\n",
    "\n",
    "\n"
   ]
  },
  {
   "cell_type": "markdown",
   "id": "6f04dc24",
   "metadata": {},
   "source": [
    "Q1. Which keyword is used to create a function? Create a function to return a list of odd numbers in the range of 1 to 25.\n",
    "\n",
    "Ans: def keyword is used to create a function.Function to return a list of odd numbers:"
   ]
  },
  {
   "cell_type": "code",
   "execution_count": 1,
   "id": "7946c5d1",
   "metadata": {},
   "outputs": [
    {
     "data": {
      "text/plain": [
       "[1, 3, 5, 7, 9, 11, 13, 15, 17, 19, 21, 23]"
      ]
     },
     "execution_count": 1,
     "metadata": {},
     "output_type": "execute_result"
    }
   ],
   "source": [
    "#function to return a list of odd numbers in the range of 1 to 25.\n",
    "def listOfOdd():\n",
    "    l1=[]\n",
    "    for i in range(1,25):\n",
    "        if i%2 != 0:\n",
    "            l1.append(i)\n",
    "    return l1\n",
    "listOfOdd()\n"
   ]
  },
  {
   "cell_type": "markdown",
   "id": "85ce7ed8",
   "metadata": {},
   "source": [
    "Q2. Why *args and ***kwargs is used in some functions? Create a function each for *args and ***kwargs to demonstrate their use.\n",
    "\n",
    "Ans: We use *args and ***kwargs as an argument when we are unsure about the number of arguments to pass in the functions.by using *args and ***kwargs we can pass any number of arguments.Function to demonstrate their use:\n"
   ]
  },
  {
   "cell_type": "code",
   "execution_count": 20,
   "id": "2f759413",
   "metadata": {},
   "outputs": [
    {
     "name": "stdout",
     "output_type": "stream",
     "text": [
      "hello\n",
      "my\n",
      "name is \n",
      "harsh\n",
      "1\n",
      "2\n",
      "key is :  FirstName  Value is :  harsh\n",
      "key is :  LastName  Value is :  janjuha\n",
      "key is :  Location  Value is :  punjab\n",
      "key is :  CourseEnrolled  Value is :  Data Science Master\n"
     ]
    }
   ],
   "source": [
    "#a function for *args to demonstrate its use.\n",
    "def arg(*args):\n",
    "    for i in args:\n",
    "        print(i)\n",
    "arg('hello','my','name is ',\"harsh\",1,2)\n",
    "#a function for **kwargs to demonstrate its use.\n",
    "def kwarg(**kwargs):\n",
    "    for key, value in kwargs.items():\n",
    "        print('key is : ',key,' Value is : ',value)\n",
    "kwarg(FirstName= \"harsh\", LastName= \"janjuha\", Location= \"punjab\", CourseEnrolled= \"Data Science Master\")\n"
   ]
  },
  {
   "cell_type": "markdown",
   "id": "8583739d",
   "metadata": {},
   "source": [
    "Q3. What is an iterator in python? Name the method used to initialise the iterator object and the method\n",
    "used for iteration. Use these methods to print the first five elements of the given list [2, 4, 6, 8, 10, 12, 14, 16,\n",
    "18, 20].\n",
    "\n",
    "Ans: Iterators are methods that iterate collections like lists, tuples, etc. Using an iterator method, we can loop through an object and return its elements. The for loop in Python is used to iterate over a sequence of elements, such as a list, tuple, or string. When we use the for loop with an iterator, the loop will automatically iterate over the elements of the iterator until it is exhausted.Solution to above statement"
   ]
  },
  {
   "cell_type": "code",
   "execution_count": 21,
   "id": "5f9081ed",
   "metadata": {},
   "outputs": [
    {
     "name": "stdout",
     "output_type": "stream",
     "text": [
      "2\n",
      "4\n",
      "6\n",
      "8\n",
      "10\n"
     ]
    }
   ],
   "source": [
    "#print the first five elements of the given list [2, 4, 6, 8, 10, 12, 14, 16, 18, 20].\n",
    "lst=[2, 4, 6, 8, 10, 12, 14, 16, 18, 20]\n",
    "for i in range(5):\n",
    "    print(lst[i])"
   ]
  },
  {
   "cell_type": "markdown",
   "id": "cac947aa",
   "metadata": {},
   "source": [
    "Q4. What is a generator function in python? Why yield keyword is used? Give an example of a generator\n",
    "function.\n",
    "\n",
    "Ans.A generator function in Python is a special type of function that returns a generator iterator, which can be used to iterate over a sequence of elements. A generator function is defined like a normal function, but instead of using the return statement to return a value, it uses the yield statement.The yield statement is used to produce a value, and the generator function can be resumed from where it left off the next time next() is called on the generator.Example:->"
   ]
  },
  {
   "cell_type": "code",
   "execution_count": 24,
   "id": "ecbd7f6c",
   "metadata": {},
   "outputs": [
    {
     "name": "stdout",
     "output_type": "stream",
     "text": [
      "0\n",
      "1\n",
      "1\n",
      "2\n",
      "3\n",
      "5\n",
      "8\n",
      "13\n",
      "21\n",
      "34\n"
     ]
    }
   ],
   "source": [
    "\n",
    "#the fibonacci series program using generator yield\n",
    "def fibonacci():\n",
    "    a, b = 0, 1\n",
    "    while True:\n",
    "        yield a\n",
    "        a, b = b, a + b\n",
    "\n",
    "fib = fibonacci()\n",
    "for i in range(10):\n",
    "    print(next(fib))\n"
   ]
  },
  {
   "cell_type": "markdown",
   "id": "5ca89a6d",
   "metadata": {},
   "source": [
    "Q5. Create a generator function for prime numbers less than 1000. Use the next() method to print the first 20 prime numbers.\n",
    "\n",
    "Ans. the solution is as follows:"
   ]
  },
  {
   "cell_type": "code",
   "execution_count": 26,
   "id": "95b20ceb",
   "metadata": {},
   "outputs": [
    {
     "name": "stdout",
     "output_type": "stream",
     "text": [
      "2\n",
      "3\n",
      "5\n",
      "7\n",
      "11\n",
      "13\n",
      "17\n",
      "19\n",
      "23\n",
      "29\n",
      "31\n",
      "37\n",
      "41\n",
      "43\n",
      "47\n",
      "53\n",
      "59\n",
      "61\n",
      "67\n",
      "71\n"
     ]
    }
   ],
   "source": [
    "\n",
    "#a generator function for prime numbers less than 1000. Use the next() method to print the first 20 prime numbers.\n",
    "def primes():\n",
    "    yield 2\n",
    "    primes_list = [2]\n",
    "    for i in range(3, 1000):\n",
    "        is_prime = True\n",
    "        for prime in primes_list:\n",
    "            if i % prime == 0:\n",
    "                is_prime = False\n",
    "                break\n",
    "        if is_prime:\n",
    "            primes_list.append(i)\n",
    "            yield i\n",
    "\n",
    "prime_gen = primes()\n",
    "# the next() method to print the first 20 prime numbers.\n",
    "for i in range(20):\n",
    "    print(next(prime_gen))\n"
   ]
  },
  {
   "cell_type": "code",
   "execution_count": null,
   "id": "186d2932",
   "metadata": {},
   "outputs": [],
   "source": []
  },
  {
   "cell_type": "code",
   "execution_count": null,
   "id": "bdd18275",
   "metadata": {},
   "outputs": [],
   "source": []
  }
 ],
 "metadata": {
  "kernelspec": {
   "display_name": "Python 3 (ipykernel)",
   "language": "python",
   "name": "python3"
  },
  "language_info": {
   "codemirror_mode": {
    "name": "ipython",
    "version": 3
   },
   "file_extension": ".py",
   "mimetype": "text/x-python",
   "name": "python",
   "nbconvert_exporter": "python",
   "pygments_lexer": "ipython3",
   "version": "3.9.12"
  }
 },
 "nbformat": 4,
 "nbformat_minor": 5
}
