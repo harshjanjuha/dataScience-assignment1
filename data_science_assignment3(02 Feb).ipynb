{
 "cells": [
  {
   "cell_type": "markdown",
   "id": "ef30da31",
   "metadata": {},
   "source": [
    "# Assignment 3"
   ]
  },
  {
   "cell_type": "markdown",
   "id": "ce75fde5",
   "metadata": {},
   "source": [
    "Q1. What are the characteristics of the tuples? Is tuple immutable?\n",
    "\n",
    "Ans.Tuples are an ordered collection of elements of different data types.we represent them by writing the elements inside the parenthesis separated by commas. We can also define tuples as lists that we cannot change. Tuples are immutable"
   ]
  },
  {
   "cell_type": "markdown",
   "id": "ac8adb0b",
   "metadata": {},
   "source": [
    "Q2.What are the two tuple methods in python? Give an example of each method. Give a reason why\n",
    "tuples have only two in-built methods as compared to Lists.?\n",
    "\n",
    "Ans. There are only two tuple methods count() and index() that a tuple object can call.The other methods like .appen() and .extend() can't be used in tuples because tuples are immutable.Example of both tuple methods:\n"
   ]
  },
  {
   "cell_type": "code",
   "execution_count": 4,
   "id": "c93c55ff",
   "metadata": {},
   "outputs": [
    {
     "name": "stdout",
     "output_type": "stream",
     "text": [
      "5\n",
      "2\n"
     ]
    }
   ],
   "source": [
    "#Example of .count and .index() in tuples\n",
    "# tuple variable\n",
    "tpl=(1,2,'harsh',89,1,1,1,1)\n",
    "#.count() method\n",
    "print(tpl.count(1))\n",
    "#.index() method\n",
    "print(tpl.index('harsh'))"
   ]
  },
  {
   "cell_type": "markdown",
   "id": "cd6cc030",
   "metadata": {},
   "source": [
    "Q3.Which collection datatypes in python do not allow duplicate items? Write a code using a set to remove\n",
    "duplicates from the given list.\n",
    "List = [1, 1, 1, 2, 1, 3, 1, 4, 2, 1, 2, 2, 2, 3, 2, 4, 3, 1, 3, 2, 3, 3, 3, 4, 4, 1, 4, 2, 4, 3, 4, 4]\n",
    "\n",
    "Ans. Sets do not allow duplicate items."
   ]
  },
  {
   "cell_type": "code",
   "execution_count": 12,
   "id": "b07f8233",
   "metadata": {},
   "outputs": [
    {
     "name": "stdout",
     "output_type": "stream",
     "text": [
      "[1, 2, 3, 4]\n"
     ]
    }
   ],
   "source": [
    "#code using a set to remove duplicates from the given list.\n",
    "List = [1, 1, 1, 2, 1, 3, 1, 4, 2, 1, 2, 2, 2, 3, 2, 4, 3, 1, 3, 2, 3, 3, 3, 4, 4, 1, 4, 2, 4, 3, 4, 4]\n",
    "List=list(set(List))\n",
    "print(List)"
   ]
  },
  {
   "cell_type": "markdown",
   "id": "a270b90b",
   "metadata": {},
   "source": [
    "Q4. Explain the difference between the union() and update() methods for a set. Give an example of\n",
    "each method.\n",
    "\n",
    "Ans. union() method create and return a new set, containing all the elements ( distinct ) present in all the iterables, update() method updates the set on which this method is called with all the distinct elements present in all the iterables.\n",
    "Examples:\n"
   ]
  },
  {
   "cell_type": "code",
   "execution_count": 22,
   "id": "791823a3",
   "metadata": {},
   "outputs": [
    {
     "name": "stdout",
     "output_type": "stream",
     "text": [
      "a union b is :  {1, 2, 3, 4, 5, 6, 7}\n",
      "set a after union():  {1, 2, 3, 4, 5}\n",
      "set b after union():  {5, 6, 7}\n",
      "performing a.update(b) \n",
      "set a after update():  {1, 2, 3, 4, 5, 6, 7}\n",
      "set b after update():  {5, 6, 7}\n"
     ]
    }
   ],
   "source": [
    "#declaring sets\n",
    "a={1,2,3,4,5}\n",
    "b={5,6,7}\n",
    "#using union() method\n",
    "print(\"a union b is : \",a.union(b))\n",
    "print(\"set a after union(): \",a)\n",
    "print(\"set b after union(): \",b)\n",
    "#using update() method\n",
    "print(\"performing a.update(b) \")\n",
    "a.update(b)\n",
    "print(\"set a after update(): \",a)\n",
    "print(\"set b after update(): \",b)\n"
   ]
  },
  {
   "cell_type": "markdown",
   "id": "ab107b9b",
   "metadata": {},
   "source": [
    "Q5.What is a dictionary? Give an example. Also, state whether a dictionary is ordered or unordered.\n",
    "\n",
    "Ans.The dictionary is an unordered collection that contains key:value pairs separated by commas inside curly brackets. Dictionaries are optimized to retrieve values when the key is known. example:"
   ]
  },
  {
   "cell_type": "code",
   "execution_count": 27,
   "id": "37a7e1b7",
   "metadata": {},
   "outputs": [
    {
     "name": "stdout",
     "output_type": "stream",
     "text": [
      "<class 'dict'>\n",
      "value2\n"
     ]
    }
   ],
   "source": [
    "dct={\"key1\":\"value1\",\"key2\":\"value2\",\"key3\":\"value3\",\"key4\":\"value4\"}\n",
    "print(type(dct))\n",
    "print(dct['key2'])"
   ]
  },
  {
   "cell_type": "markdown",
   "id": "44ef331d",
   "metadata": {},
   "source": [
    "Q6. Can we create a nested dictionary? If so, please give an example by creating a simple one-level\n",
    "nested dictionary.\n",
    "\n",
    "Ans. Yes we can create nested dict .example:->"
   ]
  },
  {
   "cell_type": "code",
   "execution_count": 30,
   "id": "b50e9870",
   "metadata": {},
   "outputs": [
    {
     "name": "stdout",
     "output_type": "stream",
     "text": [
      "<class 'dict'>\n",
      "sub_value2\n"
     ]
    }
   ],
   "source": [
    "dct={\"key1\":{'sub_key1':'sub_value1','sub_key2':'sub_value2'},\"key2\":\"value2\",\"key3\":\"value3\",\"key4\":\"value4\"}\n",
    "print(type(dct))\n",
    "print(dct['key1']['sub_key2'])"
   ]
  },
  {
   "cell_type": "markdown",
   "id": "9e407202",
   "metadata": {},
   "source": [
    "Q7. Using setdefault() method, create key named topics in the given dictionary and also add the value of\n",
    "the key as this list ['Python', 'Machine Learning’, 'Deep Learning']\n",
    "\n",
    "Ans. solution is given below"
   ]
  },
  {
   "cell_type": "code",
   "execution_count": 38,
   "id": "5f2f12a0",
   "metadata": {},
   "outputs": [
    {
     "name": "stdout",
     "output_type": "stream",
     "text": [
      "{'language': 'Python', 'course': 'Data Science Masters', 'topics': ['Python', 'Machine Learning', 'Deep Learning']}\n"
     ]
    }
   ],
   "source": [
    "dict1 = {'language' : 'Python', 'course': 'Data Science Masters'}\n",
    "dict1.setdefault('topics', ['Python', 'Machine Learning', 'Deep Learning'])\n",
    "print(dict1)"
   ]
  },
  {
   "cell_type": "markdown",
   "id": "aea68eed",
   "metadata": {},
   "source": [
    "Q8. What are the three view objects in dictionaries? Use the three in-built methods in python to display\n",
    "these three view objects for the given dictionary.\n",
    "dict1 = {'Sport': 'Cricket' , 'Teams': ['India', 'Australia', 'England', 'South Africa', 'Sri Lanka', 'New Zealand']}\n",
    "\n",
    "Ans. The three view objects are keys, values, items.solution to above statement is as below:->"
   ]
  },
  {
   "cell_type": "code",
   "execution_count": 41,
   "id": "20af2a87",
   "metadata": {},
   "outputs": [
    {
     "name": "stdout",
     "output_type": "stream",
     "text": [
      "Keys are:  dict_keys(['Sport', 'Teams'])\n",
      "Values are:  dict_values(['Cricket', ['India', 'Australia', 'England', 'South Africa', 'Sri Lanka', 'New Zealand']])\n",
      "items are:  dict_items([('Sport', 'Cricket'), ('Teams', ['India', 'Australia', 'England', 'South Africa', 'Sri Lanka', 'New Zealand'])])\n"
     ]
    }
   ],
   "source": [
    "dict1 = {'Sport': 'Cricket' , 'Teams': ['India', 'Australia', 'England', 'South Africa', 'Sri Lanka', 'New Zealand']}\n",
    "keys=dict1.keys()\n",
    "print(\"Keys are: \",keys)\n",
    "values=dict1.values()\n",
    "print(\"Values are: \",values)\n",
    "items=dict1.items()\n",
    "print(\"items are: \",items)\n"
   ]
  },
  {
   "cell_type": "code",
   "execution_count": null,
   "id": "ad1fdd41",
   "metadata": {},
   "outputs": [],
   "source": []
  }
 ],
 "metadata": {
  "kernelspec": {
   "display_name": "Python 3 (ipykernel)",
   "language": "python",
   "name": "python3"
  },
  "language_info": {
   "codemirror_mode": {
    "name": "ipython",
    "version": 3
   },
   "file_extension": ".py",
   "mimetype": "text/x-python",
   "name": "python",
   "nbconvert_exporter": "python",
   "pygments_lexer": "ipython3",
   "version": "3.9.12"
  }
 },
 "nbformat": 4,
 "nbformat_minor": 5
}
